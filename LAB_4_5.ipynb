{
  "nbformat": 4,
  "nbformat_minor": 0,
  "metadata": {
    "colab": {
      "provenance": [],
      "authorship_tag": "ABX9TyO9PYKX9oH/4gDVqxOIBhy/",
      "include_colab_link": true
    },
    "kernelspec": {
      "name": "python3",
      "display_name": "Python 3"
    },
    "language_info": {
      "name": "python"
    }
  },
  "cells": [
    {
      "cell_type": "markdown",
      "metadata": {
        "id": "view-in-github",
        "colab_type": "text"
      },
      "source": [
        "<a href=\"https://colab.research.google.com/github/KhyatiSatija/Probability_Course/blob/main/LAB_4_5.ipynb\" target=\"_parent\"><img src=\"https://colab.research.google.com/assets/colab-badge.svg\" alt=\"Open In Colab\"/></a>"
      ]
    },
    {
      "cell_type": "markdown",
      "source": [
        "#Q1\n",
        " hearts, diamonds = red \\\\\n",
        " spades, clubs  = black \\\\\n",
        " total = 52 \\\\\n",
        "P(drawing a heart ) = 13/ 52 \\\\\n",
        "P(king) = 4/ 52 \\\\\n",
        "P(king/ heart) = 1/ 13\n"
      ],
      "metadata": {
        "id": "BIL4NLPTw8LU"
      }
    },
    {
      "cell_type": "markdown",
      "source": [
        "Rest questions are done in the ipad"
      ],
      "metadata": {
        "id": "U1YNLyQXyX6n"
      }
    },
    {
      "cell_type": "code",
      "execution_count": null,
      "metadata": {
        "id": "YgXARKVXwAzH",
        "colab": {
          "base_uri": "https://localhost:8080/"
        },
        "outputId": "76dc8613-30dd-4383-9fa0-d5a09180677e"
      },
      "outputs": [
        {
          "output_type": "execute_result",
          "data": {
            "text/plain": [
              "[('1', '1', '1'),\n",
              " ('1', '1', '2'),\n",
              " ('1', '1', '3'),\n",
              " ('1', '1', '4'),\n",
              " ('1', '1', '5'),\n",
              " ('1', '1', '6'),\n",
              " ('1', '2', '1'),\n",
              " ('1', '2', '2'),\n",
              " ('1', '2', '3'),\n",
              " ('1', '2', '4'),\n",
              " ('1', '2', '5'),\n",
              " ('1', '2', '6'),\n",
              " ('1', '3', '1'),\n",
              " ('1', '3', '2'),\n",
              " ('1', '3', '3'),\n",
              " ('1', '3', '4'),\n",
              " ('1', '3', '5'),\n",
              " ('1', '3', '6'),\n",
              " ('1', '4', '1'),\n",
              " ('1', '4', '2'),\n",
              " ('1', '4', '3'),\n",
              " ('1', '4', '4'),\n",
              " ('1', '4', '5'),\n",
              " ('1', '4', '6'),\n",
              " ('1', '5', '1'),\n",
              " ('1', '5', '2'),\n",
              " ('1', '5', '3'),\n",
              " ('1', '5', '4'),\n",
              " ('1', '5', '5'),\n",
              " ('1', '5', '6'),\n",
              " ('1', '6', '1'),\n",
              " ('1', '6', '2'),\n",
              " ('1', '6', '3'),\n",
              " ('1', '6', '4'),\n",
              " ('1', '6', '5'),\n",
              " ('1', '6', '6'),\n",
              " ('2', '1', '1'),\n",
              " ('2', '1', '2'),\n",
              " ('2', '1', '3'),\n",
              " ('2', '1', '4'),\n",
              " ('2', '1', '5'),\n",
              " ('2', '1', '6'),\n",
              " ('2', '2', '1'),\n",
              " ('2', '2', '2'),\n",
              " ('2', '2', '3'),\n",
              " ('2', '2', '4'),\n",
              " ('2', '2', '5'),\n",
              " ('2', '2', '6'),\n",
              " ('2', '3', '1'),\n",
              " ('2', '3', '2'),\n",
              " ('2', '3', '3'),\n",
              " ('2', '3', '4'),\n",
              " ('2', '3', '5'),\n",
              " ('2', '3', '6'),\n",
              " ('2', '4', '1'),\n",
              " ('2', '4', '2'),\n",
              " ('2', '4', '3'),\n",
              " ('2', '4', '4'),\n",
              " ('2', '4', '5'),\n",
              " ('2', '4', '6'),\n",
              " ('2', '5', '1'),\n",
              " ('2', '5', '2'),\n",
              " ('2', '5', '3'),\n",
              " ('2', '5', '4'),\n",
              " ('2', '5', '5'),\n",
              " ('2', '5', '6'),\n",
              " ('2', '6', '1'),\n",
              " ('2', '6', '2'),\n",
              " ('2', '6', '3'),\n",
              " ('2', '6', '4'),\n",
              " ('2', '6', '5'),\n",
              " ('2', '6', '6'),\n",
              " ('3', '1', '1'),\n",
              " ('3', '1', '2'),\n",
              " ('3', '1', '3'),\n",
              " ('3', '1', '4'),\n",
              " ('3', '1', '5'),\n",
              " ('3', '1', '6'),\n",
              " ('3', '2', '1'),\n",
              " ('3', '2', '2'),\n",
              " ('3', '2', '3'),\n",
              " ('3', '2', '4'),\n",
              " ('3', '2', '5'),\n",
              " ('3', '2', '6'),\n",
              " ('3', '3', '1'),\n",
              " ('3', '3', '2'),\n",
              " ('3', '3', '3'),\n",
              " ('3', '3', '4'),\n",
              " ('3', '3', '5'),\n",
              " ('3', '3', '6'),\n",
              " ('3', '4', '1'),\n",
              " ('3', '4', '2'),\n",
              " ('3', '4', '3'),\n",
              " ('3', '4', '4'),\n",
              " ('3', '4', '5'),\n",
              " ('3', '4', '6'),\n",
              " ('3', '5', '1'),\n",
              " ('3', '5', '2'),\n",
              " ('3', '5', '3'),\n",
              " ('3', '5', '4'),\n",
              " ('3', '5', '5'),\n",
              " ('3', '5', '6'),\n",
              " ('3', '6', '1'),\n",
              " ('3', '6', '2'),\n",
              " ('3', '6', '3'),\n",
              " ('3', '6', '4'),\n",
              " ('3', '6', '5'),\n",
              " ('3', '6', '6'),\n",
              " ('4', '1', '1'),\n",
              " ('4', '1', '2'),\n",
              " ('4', '1', '3'),\n",
              " ('4', '1', '4'),\n",
              " ('4', '1', '5'),\n",
              " ('4', '1', '6'),\n",
              " ('4', '2', '1'),\n",
              " ('4', '2', '2'),\n",
              " ('4', '2', '3'),\n",
              " ('4', '2', '4'),\n",
              " ('4', '2', '5'),\n",
              " ('4', '2', '6'),\n",
              " ('4', '3', '1'),\n",
              " ('4', '3', '2'),\n",
              " ('4', '3', '3'),\n",
              " ('4', '3', '4'),\n",
              " ('4', '3', '5'),\n",
              " ('4', '3', '6'),\n",
              " ('4', '4', '1'),\n",
              " ('4', '4', '2'),\n",
              " ('4', '4', '3'),\n",
              " ('4', '4', '4'),\n",
              " ('4', '4', '5'),\n",
              " ('4', '4', '6'),\n",
              " ('4', '5', '1'),\n",
              " ('4', '5', '2'),\n",
              " ('4', '5', '3'),\n",
              " ('4', '5', '4'),\n",
              " ('4', '5', '5'),\n",
              " ('4', '5', '6'),\n",
              " ('4', '6', '1'),\n",
              " ('4', '6', '2'),\n",
              " ('4', '6', '3'),\n",
              " ('4', '6', '4'),\n",
              " ('4', '6', '5'),\n",
              " ('4', '6', '6'),\n",
              " ('5', '1', '1'),\n",
              " ('5', '1', '2'),\n",
              " ('5', '1', '3'),\n",
              " ('5', '1', '4'),\n",
              " ('5', '1', '5'),\n",
              " ('5', '1', '6'),\n",
              " ('5', '2', '1'),\n",
              " ('5', '2', '2'),\n",
              " ('5', '2', '3'),\n",
              " ('5', '2', '4'),\n",
              " ('5', '2', '5'),\n",
              " ('5', '2', '6'),\n",
              " ('5', '3', '1'),\n",
              " ('5', '3', '2'),\n",
              " ('5', '3', '3'),\n",
              " ('5', '3', '4'),\n",
              " ('5', '3', '5'),\n",
              " ('5', '3', '6'),\n",
              " ('5', '4', '1'),\n",
              " ('5', '4', '2'),\n",
              " ('5', '4', '3'),\n",
              " ('5', '4', '4'),\n",
              " ('5', '4', '5'),\n",
              " ('5', '4', '6'),\n",
              " ('5', '5', '1'),\n",
              " ('5', '5', '2'),\n",
              " ('5', '5', '3'),\n",
              " ('5', '5', '4'),\n",
              " ('5', '5', '5'),\n",
              " ('5', '5', '6'),\n",
              " ('5', '6', '1'),\n",
              " ('5', '6', '2'),\n",
              " ('5', '6', '3'),\n",
              " ('5', '6', '4'),\n",
              " ('5', '6', '5'),\n",
              " ('5', '6', '6'),\n",
              " ('6', '1', '1'),\n",
              " ('6', '1', '2'),\n",
              " ('6', '1', '3'),\n",
              " ('6', '1', '4'),\n",
              " ('6', '1', '5'),\n",
              " ('6', '1', '6'),\n",
              " ('6', '2', '1'),\n",
              " ('6', '2', '2'),\n",
              " ('6', '2', '3'),\n",
              " ('6', '2', '4'),\n",
              " ('6', '2', '5'),\n",
              " ('6', '2', '6'),\n",
              " ('6', '3', '1'),\n",
              " ('6', '3', '2'),\n",
              " ('6', '3', '3'),\n",
              " ('6', '3', '4'),\n",
              " ('6', '3', '5'),\n",
              " ('6', '3', '6'),\n",
              " ('6', '4', '1'),\n",
              " ('6', '4', '2'),\n",
              " ('6', '4', '3'),\n",
              " ('6', '4', '4'),\n",
              " ('6', '4', '5'),\n",
              " ('6', '4', '6'),\n",
              " ('6', '5', '1'),\n",
              " ('6', '5', '2'),\n",
              " ('6', '5', '3'),\n",
              " ('6', '5', '4'),\n",
              " ('6', '5', '5'),\n",
              " ('6', '5', '6'),\n",
              " ('6', '6', '1'),\n",
              " ('6', '6', '2'),\n",
              " ('6', '6', '3'),\n",
              " ('6', '6', '4'),\n",
              " ('6', '6', '5'),\n",
              " ('6', '6', '6')]"
            ]
          },
          "metadata": {},
          "execution_count": 8
        }
      ],
      "source": [
        "import itertools\n",
        "sample_space = list(itertools.product('123456',repeat = 3))\n",
        "sample_space"
      ]
    },
    {
      "cell_type": "code",
      "source": [
        "len(sample_space)"
      ],
      "metadata": {
        "colab": {
          "base_uri": "https://localhost:8080/"
        },
        "id": "3aPu_Y60z9Rm",
        "outputId": "02d3b322-a67c-4920-ad4a-a31012233002"
      },
      "execution_count": null,
      "outputs": [
        {
          "output_type": "execute_result",
          "data": {
            "text/plain": [
              "216"
            ]
          },
          "metadata": {},
          "execution_count": 4
        }
      ]
    },
    {
      "cell_type": "code",
      "source": [
        "def convert(sample_space: list[tuple[str]]) -> list[tuple[int]]:\n",
        "    new_SS = []\n",
        "    for outcome in sample_space:\n",
        "        new_SS.append(tuple(map(int, outcome)))\n",
        "    return new_SS\n"
      ],
      "metadata": {
        "id": "wzMutgoP21wi"
      },
      "execution_count": null,
      "outputs": []
    },
    {
      "cell_type": "code",
      "source": [
        "print(convert(sample_space))"
      ],
      "metadata": {
        "colab": {
          "base_uri": "https://localhost:8080/"
        },
        "id": "bt-2ryGf5ePq",
        "outputId": "2e04709c-6ef2-476c-def6-8dc9a08d9f19"
      },
      "execution_count": null,
      "outputs": [
        {
          "output_type": "stream",
          "name": "stdout",
          "text": [
            "[(1, 1, 1), (1, 1, 2), (1, 1, 3), (1, 1, 4), (1, 1, 5), (1, 1, 6), (1, 2, 1), (1, 2, 2), (1, 2, 3), (1, 2, 4), (1, 2, 5), (1, 2, 6), (1, 3, 1), (1, 3, 2), (1, 3, 3), (1, 3, 4), (1, 3, 5), (1, 3, 6), (1, 4, 1), (1, 4, 2), (1, 4, 3), (1, 4, 4), (1, 4, 5), (1, 4, 6), (1, 5, 1), (1, 5, 2), (1, 5, 3), (1, 5, 4), (1, 5, 5), (1, 5, 6), (1, 6, 1), (1, 6, 2), (1, 6, 3), (1, 6, 4), (1, 6, 5), (1, 6, 6), (2, 1, 1), (2, 1, 2), (2, 1, 3), (2, 1, 4), (2, 1, 5), (2, 1, 6), (2, 2, 1), (2, 2, 2), (2, 2, 3), (2, 2, 4), (2, 2, 5), (2, 2, 6), (2, 3, 1), (2, 3, 2), (2, 3, 3), (2, 3, 4), (2, 3, 5), (2, 3, 6), (2, 4, 1), (2, 4, 2), (2, 4, 3), (2, 4, 4), (2, 4, 5), (2, 4, 6), (2, 5, 1), (2, 5, 2), (2, 5, 3), (2, 5, 4), (2, 5, 5), (2, 5, 6), (2, 6, 1), (2, 6, 2), (2, 6, 3), (2, 6, 4), (2, 6, 5), (2, 6, 6), (3, 1, 1), (3, 1, 2), (3, 1, 3), (3, 1, 4), (3, 1, 5), (3, 1, 6), (3, 2, 1), (3, 2, 2), (3, 2, 3), (3, 2, 4), (3, 2, 5), (3, 2, 6), (3, 3, 1), (3, 3, 2), (3, 3, 3), (3, 3, 4), (3, 3, 5), (3, 3, 6), (3, 4, 1), (3, 4, 2), (3, 4, 3), (3, 4, 4), (3, 4, 5), (3, 4, 6), (3, 5, 1), (3, 5, 2), (3, 5, 3), (3, 5, 4), (3, 5, 5), (3, 5, 6), (3, 6, 1), (3, 6, 2), (3, 6, 3), (3, 6, 4), (3, 6, 5), (3, 6, 6), (4, 1, 1), (4, 1, 2), (4, 1, 3), (4, 1, 4), (4, 1, 5), (4, 1, 6), (4, 2, 1), (4, 2, 2), (4, 2, 3), (4, 2, 4), (4, 2, 5), (4, 2, 6), (4, 3, 1), (4, 3, 2), (4, 3, 3), (4, 3, 4), (4, 3, 5), (4, 3, 6), (4, 4, 1), (4, 4, 2), (4, 4, 3), (4, 4, 4), (4, 4, 5), (4, 4, 6), (4, 5, 1), (4, 5, 2), (4, 5, 3), (4, 5, 4), (4, 5, 5), (4, 5, 6), (4, 6, 1), (4, 6, 2), (4, 6, 3), (4, 6, 4), (4, 6, 5), (4, 6, 6), (5, 1, 1), (5, 1, 2), (5, 1, 3), (5, 1, 4), (5, 1, 5), (5, 1, 6), (5, 2, 1), (5, 2, 2), (5, 2, 3), (5, 2, 4), (5, 2, 5), (5, 2, 6), (5, 3, 1), (5, 3, 2), (5, 3, 3), (5, 3, 4), (5, 3, 5), (5, 3, 6), (5, 4, 1), (5, 4, 2), (5, 4, 3), (5, 4, 4), (5, 4, 5), (5, 4, 6), (5, 5, 1), (5, 5, 2), (5, 5, 3), (5, 5, 4), (5, 5, 5), (5, 5, 6), (5, 6, 1), (5, 6, 2), (5, 6, 3), (5, 6, 4), (5, 6, 5), (5, 6, 6), (6, 1, 1), (6, 1, 2), (6, 1, 3), (6, 1, 4), (6, 1, 5), (6, 1, 6), (6, 2, 1), (6, 2, 2), (6, 2, 3), (6, 2, 4), (6, 2, 5), (6, 2, 6), (6, 3, 1), (6, 3, 2), (6, 3, 3), (6, 3, 4), (6, 3, 5), (6, 3, 6), (6, 4, 1), (6, 4, 2), (6, 4, 3), (6, 4, 4), (6, 4, 5), (6, 4, 6), (6, 5, 1), (6, 5, 2), (6, 5, 3), (6, 5, 4), (6, 5, 5), (6, 5, 6), (6, 6, 1), (6, 6, 2), (6, 6, 3), (6, 6, 4), (6, 6, 5), (6, 6, 6)]\n"
          ]
        }
      ]
    },
    {
      "cell_type": "markdown",
      "source": [
        "# Y = sum of the three numbers rolled\n",
        "Y can range from (1,1,1) to (6,6,6) i.e. from 3 to 18."
      ],
      "metadata": {
        "id": "2rE2o_p_01Yu"
      }
    },
    {
      "cell_type": "code",
      "source": [
        "count = {}\n",
        "for outcome in convert(sample_space):\n",
        "    total = sum(outcome)\n",
        "    if total in count:\n",
        "        count[total] += 1\n",
        "    else:\n",
        "        count[total] = 1"
      ],
      "metadata": {
        "id": "FUjqW2IM0oiA"
      },
      "execution_count": null,
      "outputs": []
    },
    {
      "cell_type": "code",
      "source": [
        "count"
      ],
      "metadata": {
        "colab": {
          "base_uri": "https://localhost:8080/"
        },
        "id": "LEFD33u20xyL",
        "outputId": "d6f40a9e-f57a-41c5-8165-8bfc2ae8cb5c"
      },
      "execution_count": null,
      "outputs": [
        {
          "output_type": "execute_result",
          "data": {
            "text/plain": [
              "{3: 1,\n",
              " 4: 3,\n",
              " 5: 6,\n",
              " 6: 10,\n",
              " 7: 15,\n",
              " 8: 21,\n",
              " 9: 25,\n",
              " 10: 27,\n",
              " 11: 27,\n",
              " 12: 25,\n",
              " 13: 21,\n",
              " 14: 15,\n",
              " 15: 10,\n",
              " 16: 6,\n",
              " 17: 3,\n",
              " 18: 1}"
            ]
          },
          "metadata": {},
          "execution_count": 14
        }
      ]
    },
    {
      "cell_type": "code",
      "source": [
        "for key in count:\n",
        "    print(\"Probability of Y = \",key, \"is\", round(count[key]/ len(sample_space), 4))"
      ],
      "metadata": {
        "colab": {
          "base_uri": "https://localhost:8080/"
        },
        "id": "3fL4ibn455vh",
        "outputId": "06ccd591-352d-4803-93ff-005522a74e45"
      },
      "execution_count": null,
      "outputs": [
        {
          "output_type": "stream",
          "name": "stdout",
          "text": [
            "Probability of Y =  3 is 0.0046\n",
            "Probability of Y =  4 is 0.0139\n",
            "Probability of Y =  5 is 0.0278\n",
            "Probability of Y =  6 is 0.0463\n",
            "Probability of Y =  7 is 0.0694\n",
            "Probability of Y =  8 is 0.0972\n",
            "Probability of Y =  9 is 0.1157\n",
            "Probability of Y =  10 is 0.125\n",
            "Probability of Y =  11 is 0.125\n",
            "Probability of Y =  12 is 0.1157\n",
            "Probability of Y =  13 is 0.0972\n",
            "Probability of Y =  14 is 0.0694\n",
            "Probability of Y =  15 is 0.0463\n",
            "Probability of Y =  16 is 0.0278\n",
            "Probability of Y =  17 is 0.0139\n",
            "Probability of Y =  18 is 0.0046\n"
          ]
        }
      ]
    },
    {
      "cell_type": "code",
      "source": [
        "for key in count:\n",
        "    print(\"Probability of Y = \",key, \"is (\", count[key], \"/\", len(sample_space),\")\")"
      ],
      "metadata": {
        "colab": {
          "base_uri": "https://localhost:8080/"
        },
        "id": "LRWwD6SM6ZDN",
        "outputId": "770fe6f6-8eca-4b74-f4f1-923e54e163e0"
      },
      "execution_count": null,
      "outputs": [
        {
          "output_type": "stream",
          "name": "stdout",
          "text": [
            "Probability of Y =  3 is ( 1 / 216 )\n",
            "Probability of Y =  4 is ( 3 / 216 )\n",
            "Probability of Y =  5 is ( 6 / 216 )\n",
            "Probability of Y =  6 is ( 10 / 216 )\n",
            "Probability of Y =  7 is ( 15 / 216 )\n",
            "Probability of Y =  8 is ( 21 / 216 )\n",
            "Probability of Y =  9 is ( 25 / 216 )\n",
            "Probability of Y =  10 is ( 27 / 216 )\n",
            "Probability of Y =  11 is ( 27 / 216 )\n",
            "Probability of Y =  12 is ( 25 / 216 )\n",
            "Probability of Y =  13 is ( 21 / 216 )\n",
            "Probability of Y =  14 is ( 15 / 216 )\n",
            "Probability of Y =  15 is ( 10 / 216 )\n",
            "Probability of Y =  16 is ( 6 / 216 )\n",
            "Probability of Y =  17 is ( 3 / 216 )\n",
            "Probability of Y =  18 is ( 1 / 216 )\n"
          ]
        }
      ]
    },
    {
      "cell_type": "code",
      "source": [
        "mean = 0 * 3 + 1 * 8 + 2 * 12 + 3 * 15 + 4 * 9 + 5 * 3 / 50\n",
        "print(mean)"
      ],
      "metadata": {
        "colab": {
          "base_uri": "https://localhost:8080/"
        },
        "id": "j_DBQw-q7RZd",
        "outputId": "6f20ddd9-d413-4db8-afd0-08a9cfd1ca2f"
      },
      "execution_count": null,
      "outputs": [
        {
          "output_type": "stream",
          "name": "stdout",
          "text": [
            "113.3\n"
          ]
        }
      ]
    },
    {
      "cell_type": "code",
      "source": [
        "# mean = E(x) i.e. the expected value of x\n",
        "data ={\n",
        "      0:3,\n",
        "      1:8,\n",
        "      2:12,\n",
        "      3:15,\n",
        "      4:9,\n",
        "      5:3\n",
        "        }\n",
        "total_students = sum(data.values())\n",
        "mean = round(sum([ x * data[x] / total_students for x in data]), 2)\n",
        "print(\"The mean is\", mean)\n"
      ],
      "metadata": {
        "colab": {
          "base_uri": "https://localhost:8080/"
        },
        "id": "DvfTilJd81Wd",
        "outputId": "a188e8f5-c8d7-481a-ebee-4e2d52fd4c95"
      },
      "execution_count": null,
      "outputs": [
        {
          "output_type": "stream",
          "name": "stdout",
          "text": [
            "The mean is 2.56\n"
          ]
        }
      ]
    },
    {
      "cell_type": "markdown",
      "source": [
        "variance|x| = Sigma( (x - mean)^2 * P(x))"
      ],
      "metadata": {
        "id": "o48xwFksDdKW"
      }
    },
    {
      "cell_type": "code",
      "source": [
        "variance  = round(sum([(x - mean)**2 * data[x]/total_students for x in data]), 2)\n",
        "print(\"The variance is\", variance)"
      ],
      "metadata": {
        "colab": {
          "base_uri": "https://localhost:8080/"
        },
        "id": "D5gMmSnUBqqR",
        "outputId": "e1c2c50e-839a-4323-e82d-a0dee8072d0f"
      },
      "execution_count": null,
      "outputs": [
        {
          "output_type": "stream",
          "name": "stdout",
          "text": [
            "The variance is 1.65\n"
          ]
        }
      ]
    },
    {
      "cell_type": "code",
      "source": [
        "# atleast_three_correct = p(x = 3) + p(x = 4) + p(x = 5)\n",
        "atleast_three_correct = sum([data[x]/total_students for x in data if x >= 3])\n",
        "print(atleast_three_correct)"
      ],
      "metadata": {
        "colab": {
          "base_uri": "https://localhost:8080/"
        },
        "id": "epfXYvL7EGrZ",
        "outputId": "c7be842e-b001-488f-b88c-73b05664feee"
      },
      "execution_count": null,
      "outputs": [
        {
          "output_type": "stream",
          "name": "stdout",
          "text": [
            "0.54\n"
          ]
        }
      ]
    },
    {
      "cell_type": "markdown",
      "source": [
        "Probability Mass Function(PMF) is for discrete variables. //\n",
        "Cumulative Distribution Frequency(CDF) is for Continuous variables. //\n",
        "Probability Density Function(PDF) is the gradient or the derivative of the CDF. //\n",
        "The CDF is the integration of the PDF."
      ],
      "metadata": {
        "id": "0gv-T32LXmcu"
      }
    },
    {
      "cell_type": "code",
      "source": [
        "# Q3\n",
        "import random\n",
        "\n",
        "# Define the PMF as a dictionary\n",
        "pmf = {0: 0.25, 1: 0.5, 2: 0.125, 3: 0.125}\n",
        "\n",
        "# Calculate the cumulative probabilities (CDF)\n",
        "cdf = {}\n",
        "cumulative_prob = 0\n",
        "for x, p in pmf.items():\n",
        "    cumulative_prob += p\n",
        "    cdf[x] = cumulative_prob\n",
        "\n",
        "# Function to generate random numbers from CDF\n",
        "def generate_random_value():\n",
        "    random_value = random.uniform(0, 1)\n",
        "    for x, cumulative_prob in cdf.items():\n",
        "        if random_value <= cumulative_prob:\n",
        "            return x\n",
        "\n",
        "# Generate 1500 random numbers\n",
        "random_numbers = [generate_random_value() for _ in range(1500)]\n",
        "\n",
        "# Print the first few random numbers\n",
        "print(random_numbers[:10])\n"
      ],
      "metadata": {
        "id": "DaqRGZBkE_0g"
      },
      "execution_count": null,
      "outputs": []
    },
    {
      "cell_type": "code",
      "source": [
        "cdf = {}\n",
        "pmf = {0: 0.25,\n",
        "     1: 0.5,\n",
        "     2: 0.125,\n",
        "     3: 0.125\n",
        "      }\n",
        "cumulative_p = 0\n",
        "for x, p in pmf.items():\n",
        "    cumulative_p += p\n",
        "    cdf[x] = cumulative_p\n",
        "print(cdf)"
      ],
      "metadata": {
        "colab": {
          "base_uri": "https://localhost:8080/"
        },
        "id": "zazsix9QZEub",
        "outputId": "327890f6-5391-4d37-d531-0a63292b0cb7"
      },
      "execution_count": null,
      "outputs": [
        {
          "output_type": "stream",
          "name": "stdout",
          "text": [
            "{0: 0.25, 1: 0.75, 2: 0.875, 3: 1.0}\n"
          ]
        }
      ]
    },
    {
      "cell_type": "code",
      "source": [
        "import random\n",
        "def generate_random_num():\n",
        "    random_value = random.uniform(0,1)\n",
        "    for x, cum_p in cdf.items():\n",
        "        if random_value <= cum_p:\n",
        "            return  x\n",
        "random_nums = [generate_random_num() for _ in range(1500)]"
      ],
      "metadata": {
        "id": "bbun0FWPar4r"
      },
      "execution_count": null,
      "outputs": []
    },
    {
      "cell_type": "code",
      "source": [
        "print(random_nums[:10])"
      ],
      "metadata": {
        "colab": {
          "base_uri": "https://localhost:8080/"
        },
        "id": "DU18G0MrdWyH",
        "outputId": "6a6f0c63-5de1-4a6a-ea8f-7ad79295abd1"
      },
      "execution_count": null,
      "outputs": [
        {
          "output_type": "stream",
          "name": "stdout",
          "text": [
            "[1, 1, 1, 0, 1, 0, 1, 1, 1, 0]\n"
          ]
        }
      ]
    },
    {
      "cell_type": "code",
      "source": [
        "random_nums"
      ],
      "metadata": {
        "id": "qaHUKz3ldY2e"
      },
      "execution_count": null,
      "outputs": []
    },
    {
      "cell_type": "code",
      "source": [],
      "metadata": {
        "id": "uKHsa1XOdgrc"
      },
      "execution_count": null,
      "outputs": []
    }
  ]
}