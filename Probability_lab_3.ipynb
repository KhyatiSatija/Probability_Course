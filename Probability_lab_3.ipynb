{
  "nbformat": 4,
  "nbformat_minor": 0,
  "metadata": {
    "colab": {
      "provenance": [],
      "authorship_tag": "ABX9TyO25vNP8lGM0iWoVmysJaxO",
      "include_colab_link": true
    },
    "kernelspec": {
      "name": "python3",
      "display_name": "Python 3"
    },
    "language_info": {
      "name": "python"
    }
  },
  "cells": [
    {
      "cell_type": "markdown",
      "metadata": {
        "id": "view-in-github",
        "colab_type": "text"
      },
      "source": [
        "<a href=\"https://colab.research.google.com/github/KhyatiSatija/Probability_Course/blob/main/Probability_lab_3.ipynb\" target=\"_parent\"><img src=\"https://colab.research.google.com/assets/colab-badge.svg\" alt=\"Open In Colab\"/></a>"
      ]
    },
    {
      "cell_type": "code",
      "execution_count": null,
      "metadata": {
        "id": "pGKJxNtZt_Sw"
      },
      "outputs": [],
      "source": [
        "import random\n",
        "word_list = [\"I\",\"am\",\"Studying\",\"in\",\"BU\"]\n",
        "random_words = []\n",
        "for _ in range(1500):\n",
        "    random_words.append(random.choice(word_list))\n"
      ]
    },
    {
      "cell_type": "code",
      "source": [
        "random_words"
      ],
      "metadata": {
        "id": "RlFQ1D2muydU"
      },
      "execution_count": null,
      "outputs": []
    },
    {
      "cell_type": "code",
      "source": [
        "BU_indices_plus_one = [(i + 1) for i, word in enumerate(random_words, start = 0) if word == \"BU\"]"
      ],
      "metadata": {
        "id": "IwuuGR5dyxF2"
      },
      "execution_count": null,
      "outputs": []
    },
    {
      "cell_type": "code",
      "source": [
        "sample_space = []"
      ],
      "metadata": {
        "id": "DxGkkPE-u17v"
      },
      "execution_count": null,
      "outputs": []
    },
    {
      "cell_type": "code",
      "source": [
        "for index in BU_indices_plus_one:\n",
        "    sample_space.append(random_words[index])"
      ],
      "metadata": {
        "id": "HfB-HUcIzUAL"
      },
      "execution_count": null,
      "outputs": []
    },
    {
      "cell_type": "code",
      "source": [
        "sample_space"
      ],
      "metadata": {
        "id": "RwGNI88hvdDf"
      },
      "execution_count": null,
      "outputs": []
    },
    {
      "cell_type": "code",
      "source": [
        "value_count = {} #dictionary constructor\n",
        "for word in sample_space:\n",
        "    if word in value_count:\n",
        "        value_count[word] += 1\n",
        "    else:\n",
        "        value_count[word ] = 1\n",
        "print(value_count)"
      ],
      "metadata": {
        "colab": {
          "base_uri": "https://localhost:8080/"
        },
        "id": "vInSWyCBvzwR",
        "outputId": "81a45c40-c59b-492b-b8a4-838c49eb5c88"
      },
      "execution_count": null,
      "outputs": [
        {
          "output_type": "stream",
          "name": "stdout",
          "text": [
            "{'in': 62, 'Studying': 56, 'BU': 60, 'am': 59, 'I': 57}\n"
          ]
        }
      ]
    },
    {
      "cell_type": "code",
      "source": [
        "prob_IN = value_count['in']/len(sample_space)\n",
        "print(prob_IN)"
      ],
      "metadata": {
        "colab": {
          "base_uri": "https://localhost:8080/"
        },
        "id": "7Ps1lPho11kO",
        "outputId": "6e52a960-6f80-4f3b-d641-fe065d7a9d0a"
      },
      "execution_count": null,
      "outputs": [
        {
          "output_type": "stream",
          "name": "stdout",
          "text": [
            "0.2108843537414966\n"
          ]
        }
      ]
    },
    {
      "cell_type": "code",
      "source": [
        "prob_Studying = value_count['Studying']/len(sample_space)\n",
        "print(prob_Studying)"
      ],
      "metadata": {
        "colab": {
          "base_uri": "https://localhost:8080/"
        },
        "id": "AqkCoe9Z2Co6",
        "outputId": "e0e0ef6b-9cdc-4a28-8973-d2219fba16b2"
      },
      "execution_count": null,
      "outputs": [
        {
          "output_type": "stream",
          "name": "stdout",
          "text": [
            "0.19047619047619047\n"
          ]
        }
      ]
    },
    {
      "cell_type": "code",
      "source": [
        "prob_BU = value_count['BU']/len(sample_space)\n",
        "print(prob_BU)"
      ],
      "metadata": {
        "colab": {
          "base_uri": "https://localhost:8080/"
        },
        "id": "Lsy8n0112L4d",
        "outputId": "f9b37e4f-fa53-4cba-e79d-c9d06e18f347"
      },
      "execution_count": null,
      "outputs": [
        {
          "output_type": "stream",
          "name": "stdout",
          "text": [
            "0.20408163265306123\n"
          ]
        }
      ]
    },
    {
      "cell_type": "code",
      "source": [
        "prob_AM = value_count['am']/len(sample_space)\n",
        "print(prob_AM)\n"
      ],
      "metadata": {
        "colab": {
          "base_uri": "https://localhost:8080/"
        },
        "id": "bZ1UcVW62REj",
        "outputId": "6a6b1943-f2ca-4b85-d8a8-7df5c37a516c"
      },
      "execution_count": null,
      "outputs": [
        {
          "output_type": "stream",
          "name": "stdout",
          "text": [
            "0.20068027210884354\n"
          ]
        }
      ]
    },
    {
      "cell_type": "code",
      "source": [
        "prob_I = value_count['I']/len(sample_space)\n",
        "print(prob_I)"
      ],
      "metadata": {
        "colab": {
          "base_uri": "https://localhost:8080/"
        },
        "id": "DvIn3eW62Xzo",
        "outputId": "ff4c19c4-e1b0-40d7-a663-964f108892c5"
      },
      "execution_count": null,
      "outputs": [
        {
          "output_type": "stream",
          "name": "stdout",
          "text": [
            "0.19387755102040816\n"
          ]
        }
      ]
    },
    {
      "cell_type": "code",
      "source": [
        "total_prob = prob_IN + prob_Studying + prob_BU + prob_AM + prob_I\n",
        "print(total_prob)"
      ],
      "metadata": {
        "colab": {
          "base_uri": "https://localhost:8080/"
        },
        "id": "iYrzT_I82aXd",
        "outputId": "f418cd54-9f35-4d72-dea6-495c981aba7f"
      },
      "execution_count": null,
      "outputs": [
        {
          "output_type": "stream",
          "name": "stdout",
          "text": [
            "1.0\n"
          ]
        }
      ]
    },
    {
      "cell_type": "code",
      "source": [
        "#2 Question\n",
        "import itertools"
      ],
      "metadata": {
        "id": "0diW5eu42mOd"
      },
      "execution_count": null,
      "outputs": []
    },
    {
      "cell_type": "code",
      "source": [
        "coin_outcomes = ['H', 'T']\n",
        "coin_sample_space = list(itertools.product(coin_outcomes,  repeat = 4))"
      ],
      "metadata": {
        "id": "of7uLbw63vRK"
      },
      "execution_count": null,
      "outputs": []
    },
    {
      "cell_type": "code",
      "source": [
        "coin_sample_space"
      ],
      "metadata": {
        "colab": {
          "base_uri": "https://localhost:8080/"
        },
        "id": "Ti4zXrOZ5d_o",
        "outputId": "c88d4461-1740-4eb1-aaee-f966e2bb82bd"
      },
      "execution_count": null,
      "outputs": [
        {
          "output_type": "execute_result",
          "data": {
            "text/plain": [
              "[('H', 'H', 'H', 'H'),\n",
              " ('H', 'H', 'H', 'T'),\n",
              " ('H', 'H', 'T', 'H'),\n",
              " ('H', 'H', 'T', 'T'),\n",
              " ('H', 'T', 'H', 'H'),\n",
              " ('H', 'T', 'H', 'T'),\n",
              " ('H', 'T', 'T', 'H'),\n",
              " ('H', 'T', 'T', 'T'),\n",
              " ('T', 'H', 'H', 'H'),\n",
              " ('T', 'H', 'H', 'T'),\n",
              " ('T', 'H', 'T', 'H'),\n",
              " ('T', 'H', 'T', 'T'),\n",
              " ('T', 'T', 'H', 'H'),\n",
              " ('T', 'T', 'H', 'T'),\n",
              " ('T', 'T', 'T', 'H'),\n",
              " ('T', 'T', 'T', 'T')]"
            ]
          },
          "metadata": {},
          "execution_count": 5
        }
      ]
    },
    {
      "cell_type": "code",
      "source": [
        "len(coin_sample_space)"
      ],
      "metadata": {
        "colab": {
          "base_uri": "https://localhost:8080/"
        },
        "id": "yBJyO5eq566Z",
        "outputId": "21a15f6c-4556-4890-eb07-804c94997039"
      },
      "execution_count": null,
      "outputs": [
        {
          "output_type": "execute_result",
          "data": {
            "text/plain": [
              "16"
            ]
          },
          "metadata": {},
          "execution_count": 7
        }
      ]
    },
    {
      "cell_type": "code",
      "source": [
        "# X = Number of heads"
      ],
      "metadata": {
        "id": "cv7jUgMA6LHc"
      },
      "execution_count": null,
      "outputs": []
    },
    {
      "cell_type": "code",
      "source": [
        "count = 0\n",
        "for outcome in coin_sample_space:\n",
        "    # for i in range(5):\n",
        "        if outcome.count('H') == 0:\n",
        "            count += 1\n",
        "prob_X_is_zero = count/ len(coin_sample_space)"
      ],
      "metadata": {
        "id": "fR3UC4UY5-ED"
      },
      "execution_count": null,
      "outputs": []
    },
    {
      "cell_type": "code",
      "source": [
        "prob_X_is_zero"
      ],
      "metadata": {
        "colab": {
          "base_uri": "https://localhost:8080/"
        },
        "id": "oteByuSI9B2y",
        "outputId": "2e1d5359-49f6-4816-843c-9992376e9d64"
      },
      "execution_count": null,
      "outputs": [
        {
          "output_type": "execute_result",
          "data": {
            "text/plain": [
              "0.0625"
            ]
          },
          "metadata": {},
          "execution_count": 20
        }
      ]
    },
    {
      "cell_type": "code",
      "source": [
        "count = 0\n",
        "for outcome in coin_sample_space:\n",
        "    # for i in range(5):\n",
        "        if outcome.count('H') == 1:\n",
        "            count += 1\n",
        "prob_X_is_one = count/ len(coin_sample_space)\n",
        "prob_X_is_one"
      ],
      "metadata": {
        "colab": {
          "base_uri": "https://localhost:8080/"
        },
        "id": "2ZR0rIqn-Wjv",
        "outputId": "481ddc35-629d-48c1-acb4-e423dc0c473f"
      },
      "execution_count": null,
      "outputs": [
        {
          "output_type": "execute_result",
          "data": {
            "text/plain": [
              "0.25"
            ]
          },
          "metadata": {},
          "execution_count": 21
        }
      ]
    },
    {
      "cell_type": "code",
      "source": [
        "count = 0\n",
        "for outcome in coin_sample_space:\n",
        "    # for i in range(5):\n",
        "        if outcome.count('H') == 2:\n",
        "            count += 1\n",
        "prob_X_is_two = count/ len(coin_sample_space)\n",
        "prob_X_is_two"
      ],
      "metadata": {
        "colab": {
          "base_uri": "https://localhost:8080/"
        },
        "id": "jnSoisYi-gOn",
        "outputId": "607114f6-8e59-4681-b446-b3f43700bd64"
      },
      "execution_count": null,
      "outputs": [
        {
          "output_type": "execute_result",
          "data": {
            "text/plain": [
              "0.375"
            ]
          },
          "metadata": {},
          "execution_count": 22
        }
      ]
    },
    {
      "cell_type": "code",
      "source": [
        "count = 0\n",
        "for outcome in coin_sample_space:\n",
        "    # for i in range(5):\n",
        "        if outcome.count('H') == 3:\n",
        "            count += 1\n",
        "prob_X_is_three = count/ len(coin_sample_space)\n",
        "prob_X_is_three"
      ],
      "metadata": {
        "colab": {
          "base_uri": "https://localhost:8080/"
        },
        "id": "oZR2qQT_-m84",
        "outputId": "7e168581-467b-4de2-8de4-a4df04e84575"
      },
      "execution_count": null,
      "outputs": [
        {
          "output_type": "execute_result",
          "data": {
            "text/plain": [
              "0.25"
            ]
          },
          "metadata": {},
          "execution_count": 23
        }
      ]
    },
    {
      "cell_type": "code",
      "source": [
        "count = 0\n",
        "for outcome in coin_sample_space:\n",
        "    # for i in range(5):\n",
        "        if outcome.count('H') == 4:\n",
        "            count += 1\n",
        "prob_X_is_four = count/ len(coin_sample_space)\n",
        "prob_X_is_four"
      ],
      "metadata": {
        "colab": {
          "base_uri": "https://localhost:8080/"
        },
        "id": "9caZ8Ysl-rBI",
        "outputId": "3d01de7f-8805-4fa0-e20d-347b440dc339"
      },
      "execution_count": null,
      "outputs": [
        {
          "output_type": "execute_result",
          "data": {
            "text/plain": [
              "0.0625"
            ]
          },
          "metadata": {},
          "execution_count": 24
        }
      ]
    },
    {
      "cell_type": "code",
      "source": [
        "dict_value = {0:0, 1:0, 2:0,3:0,4:0}\n",
        "for i in range(5):\n",
        "    for outcome in coin_sample_space:\n",
        "        if outcome.count('H') == i:\n",
        "            dict_value[i] += 1\n",
        "print(dict_value)\n"
      ],
      "metadata": {
        "colab": {
          "base_uri": "https://localhost:8080/"
        },
        "id": "FfMnaNy6rnzO",
        "outputId": "4573ce86-e7f7-47af-9de6-b43e81942ab9"
      },
      "execution_count": null,
      "outputs": [
        {
          "output_type": "stream",
          "name": "stdout",
          "text": [
            "{0: 1, 1: 4, 2: 6, 3: 4, 4: 1}\n"
          ]
        }
      ]
    },
    {
      "cell_type": "code",
      "source": [
        "prob_zero = dict_value[0]/len(coin_sample_space)\n",
        "prob_zero"
      ],
      "metadata": {
        "colab": {
          "base_uri": "https://localhost:8080/"
        },
        "id": "s-yUkzOX-ucO",
        "outputId": "76689b03-eb83-464f-f94a-7e3d440efea1"
      },
      "execution_count": null,
      "outputs": [
        {
          "output_type": "execute_result",
          "data": {
            "text/plain": [
              "0.0625"
            ]
          },
          "metadata": {},
          "execution_count": 28
        }
      ]
    },
    {
      "cell_type": "code",
      "source": [
        "for i in range(5):\n",
        "    print(f\"probability of {i} Heads is \" + str(dict_value[i]/len(coin_sample_space)))"
      ],
      "metadata": {
        "colab": {
          "base_uri": "https://localhost:8080/"
        },
        "id": "NCNiJEaJtSSk",
        "outputId": "f355b250-1549-45c2-a087-14db3f33d054"
      },
      "execution_count": null,
      "outputs": [
        {
          "output_type": "stream",
          "name": "stdout",
          "text": [
            "probability of 0 Heads is 0.0625\n",
            "probability of 1 Heads is 0.25\n",
            "probability of 2 Heads is 0.375\n",
            "probability of 3 Heads is 0.25\n",
            "probability of 4 Heads is 0.0625\n"
          ]
        }
      ]
    },
    {
      "cell_type": "code",
      "source": [
        "# 3 rd Question\n",
        "word =\"We love the world and the things in it \\\n",
        "We love the way cheetah runs \\\n",
        "We have a man of honor \\\n",
        "We should be rich \\\n",
        "We are teenagers so we will be rebellion \\\n",
        "We are iconoclast and fighter \\\n",
        "We believe in education \\\n",
        "We love everything \\\n",
        "We watch a movie every day \\\n",
        "We hate pollution \\\n",
        "We love the work of god \\\n",
        "We love the beauty of this world\\\n",
        "We adore the way people try solve hard things \\\n",
        "You are nothing but a blade of grass \\\n",
        "We will unleash a lot of prophecies and will bring down hordes of legions unto this earth to \\\n",
        "destroy you \\\n",
        "We love doing things in a peculiar way \\\n",
        "We love and hate probability. It is so stupid and fun at the same time \\\n",
        "We love the way software programs work \\\n",
        "We love your room \\\n",
        "\"\n",
        "words = word.split()\n",
        "print(words)"
      ],
      "metadata": {
        "colab": {
          "base_uri": "https://localhost:8080/"
        },
        "id": "_M2lJMTptsCK",
        "outputId": "277cc2fb-d727-4e35-af3d-8061e79ebf66"
      },
      "execution_count": null,
      "outputs": [
        {
          "output_type": "stream",
          "name": "stdout",
          "text": [
            "['We', 'love', 'the', 'world', 'and', 'the', 'things', 'in', 'it', 'We', 'love', 'the', 'way', 'cheetah', 'runs', 'We', 'have', 'a', 'man', 'of', 'honor', 'We', 'should', 'be', 'rich', 'We', 'are', 'teenagers', 'so', 'we', 'will', 'be', 'rebellion', 'We', 'are', 'iconoclast', 'and', 'fighter', 'We', 'believe', 'in', 'education', 'We', 'love', 'everything', 'We', 'watch', 'a', 'movie', 'every', 'day', 'We', 'hate', 'pollution', 'We', 'love', 'the', 'work', 'of', 'god', 'We', 'love', 'the', 'beauty', 'of', 'this', 'worldWe', 'adore', 'the', 'way', 'people', 'try', 'solve', 'hard', 'things', 'You', 'are', 'nothing', 'but', 'a', 'blade', 'of', 'grass', 'We', 'will', 'unleash', 'a', 'lot', 'of', 'prophecies', 'and', 'will', 'bring', 'down', 'hordes', 'of', 'legions', 'unto', 'this', 'earth', 'to', 'destroy', 'you', 'We', 'love', 'doing', 'things', 'in', 'a', 'peculiar', 'way', 'We', 'love', 'and', 'hate', 'probability.', 'It', 'is', 'so', 'stupid', 'and', 'fun', 'at', 'the', 'same', 'time', 'We', 'love', 'the', 'way', 'software', 'programs', 'work', 'We', 'love', 'your', 'room']\n"
          ]
        }
      ]
    },
    {
      "cell_type": "code",
      "source": [
        "each_word = {}\n",
        "for w in words:\n",
        "    if w in each_word:\n",
        "        each_word[w] += 1\n",
        "    else:\n",
        "        each_word[w] = 1\n"
      ],
      "metadata": {
        "id": "KpIWH8xwuu7x"
      },
      "execution_count": null,
      "outputs": []
    },
    {
      "cell_type": "code",
      "source": [
        "each_word"
      ],
      "metadata": {
        "colab": {
          "base_uri": "https://localhost:8080/"
        },
        "id": "jEFJ3ZotwrZR",
        "outputId": "2f5b734b-68b8-420b-d0cc-eb935518006f"
      },
      "execution_count": null,
      "outputs": [
        {
          "output_type": "execute_result",
          "data": {
            "text/plain": [
              "{'We': 17,\n",
              " 'love': 9,\n",
              " 'the': 8,\n",
              " 'world': 1,\n",
              " 'and': 5,\n",
              " 'things': 3,\n",
              " 'in': 3,\n",
              " 'it': 1,\n",
              " 'way': 4,\n",
              " 'cheetah': 1,\n",
              " 'runs': 1,\n",
              " 'have': 1,\n",
              " 'a': 5,\n",
              " 'man': 1,\n",
              " 'of': 6,\n",
              " 'honor': 1,\n",
              " 'should': 1,\n",
              " 'be': 2,\n",
              " 'rich': 1,\n",
              " 'are': 3,\n",
              " 'teenagers': 1,\n",
              " 'so': 2,\n",
              " 'we': 1,\n",
              " 'will': 3,\n",
              " 'rebellion': 1,\n",
              " 'iconoclast': 1,\n",
              " 'fighter': 1,\n",
              " 'believe': 1,\n",
              " 'education': 1,\n",
              " 'everything': 1,\n",
              " 'watch': 1,\n",
              " 'movie': 1,\n",
              " 'every': 1,\n",
              " 'day': 1,\n",
              " 'hate': 2,\n",
              " 'pollution': 1,\n",
              " 'work': 2,\n",
              " 'god': 1,\n",
              " 'beauty': 1,\n",
              " 'this': 2,\n",
              " 'worldWe': 1,\n",
              " 'adore': 1,\n",
              " 'people': 1,\n",
              " 'try': 1,\n",
              " 'solve': 1,\n",
              " 'hard': 1,\n",
              " 'You': 1,\n",
              " 'nothing': 1,\n",
              " 'but': 1,\n",
              " 'blade': 1,\n",
              " 'grass': 1,\n",
              " 'unleash': 1,\n",
              " 'lot': 1,\n",
              " 'prophecies': 1,\n",
              " 'bring': 1,\n",
              " 'down': 1,\n",
              " 'hordes': 1,\n",
              " 'legions': 1,\n",
              " 'unto': 1,\n",
              " 'earth': 1,\n",
              " 'to': 1,\n",
              " 'destroy': 1,\n",
              " 'you': 1,\n",
              " 'doing': 1,\n",
              " 'peculiar': 1,\n",
              " 'probability.': 1,\n",
              " 'It': 1,\n",
              " 'is': 1,\n",
              " 'stupid': 1,\n",
              " 'fun': 1,\n",
              " 'at': 1,\n",
              " 'same': 1,\n",
              " 'time': 1,\n",
              " 'software': 1,\n",
              " 'programs': 1,\n",
              " 'your': 1,\n",
              " 'room': 1}"
            ]
          },
          "metadata": {},
          "execution_count": 3
        }
      ]
    },
    {
      "cell_type": "code",
      "source": [
        "len(each_word)"
      ],
      "metadata": {
        "colab": {
          "base_uri": "https://localhost:8080/"
        },
        "id": "guOTCqONws2t",
        "outputId": "4c6313de-b3ab-4b25-e93e-aeb89fbfa03b"
      },
      "execution_count": null,
      "outputs": [
        {
          "output_type": "execute_result",
          "data": {
            "text/plain": [
              "77"
            ]
          },
          "metadata": {},
          "execution_count": 4
        }
      ]
    },
    {
      "cell_type": "code",
      "source": [
        "word_list = list(iter(each_word))\n",
        "word_list"
      ],
      "metadata": {
        "id": "FV8DnTndy3IL"
      },
      "execution_count": null,
      "outputs": []
    },
    {
      "cell_type": "code",
      "source": [
        "len(word_list)"
      ],
      "metadata": {
        "id": "m-2MxEuXzWeG",
        "outputId": "46dcb359-b054-459f-e0af-3e0c185ff6d7",
        "colab": {
          "base_uri": "https://localhost:8080/"
        }
      },
      "execution_count": null,
      "outputs": [
        {
          "output_type": "execute_result",
          "data": {
            "text/plain": [
              "77"
            ]
          },
          "metadata": {},
          "execution_count": 6
        }
      ]
    },
    {
      "cell_type": "code",
      "source": [
        "def prob(w: str) :\n",
        "    req_index = [(i + 1) for i, word in enumerate(words, start = 0) if word == w]\n",
        "    req_words = []\n",
        "    for index in req_index:\n",
        "        req_words.append(words[index])\n",
        "    req_word_prob = {}\n",
        "    for w in req_words:\n",
        "        if w in req_word_prob:\n",
        "            req_word_prob[w] += 1\n",
        "        else:\n",
        "            req_word_prob[w] = 1\n",
        "    key_list = list(req_word_prob)\n",
        "    prob_list_each_word = {}\n",
        "    for key in key_list:\n",
        "        prob_list_each_word[key] = (req_word_prob[key] / len(req_words))\n",
        "    return (prob_list_each_word)\n",
        "\n",
        "\n"
      ],
      "metadata": {
        "id": "2xX-nHBGzfFC"
      },
      "execution_count": null,
      "outputs": []
    },
    {
      "cell_type": "code",
      "source": [
        "sentence = []\n",
        "while True:\n",
        "    print(\"Enter a word\")\n",
        "    wrd = input()\n",
        "\n",
        "    if wrd.lower() == 'x':\n",
        "        break\n",
        "    print(prob(wrd))\n",
        "\n",
        "    sentence.append(wrd)\n",
        "    print(\"Enter 'X' to Exit the program\")\n",
        "print(\" \".join(sentence))\n"
      ],
      "metadata": {
        "colab": {
          "base_uri": "https://localhost:8080/"
        },
        "id": "SalAxar35MoF",
        "outputId": "53b4173e-1dfc-4ae3-8924-7f2018ed1c3f"
      },
      "execution_count": null,
      "outputs": [
        {
          "output_type": "stream",
          "name": "stdout",
          "text": [
            "Enter a word\n",
            "We\n",
            "{'love': 0.5294117647058824, 'have': 0.058823529411764705, 'should': 0.058823529411764705, 'are': 0.11764705882352941, 'believe': 0.058823529411764705, 'watch': 0.058823529411764705, 'hate': 0.058823529411764705, 'will': 0.058823529411764705}\n",
            "Enter 'X' to Exit the program\n",
            "Enter a word\n",
            "love\n",
            "{'the': 0.5555555555555556, 'everything': 0.1111111111111111, 'doing': 0.1111111111111111, 'and': 0.1111111111111111, 'your': 0.1111111111111111}\n",
            "Enter 'X' to Exit the program\n",
            "Enter a word\n",
            "the\n",
            "{'world': 0.125, 'things': 0.125, 'way': 0.375, 'work': 0.125, 'beauty': 0.125, 'same': 0.125}\n",
            "Enter 'X' to Exit the program\n",
            "Enter a word\n",
            "way\n",
            "{'cheetah': 0.25, 'people': 0.25, 'We': 0.25, 'software': 0.25}\n",
            "Enter 'X' to Exit the program\n",
            "Enter a word\n",
            "people\n",
            "{'try': 1.0}\n",
            "Enter 'X' to Exit the program\n",
            "Enter a word\n",
            "try\n",
            "{'solve': 1.0}\n",
            "Enter 'X' to Exit the program\n",
            "Enter a word\n",
            "x\n",
            "We love the way people try\n"
          ]
        }
      ]
    },
    {
      "cell_type": "code",
      "source": [
        "l"
      ],
      "metadata": {
        "id": "nO1TB23z_hTs"
      },
      "execution_count": null,
      "outputs": []
    }
  ]
}