{
  "nbformat": 4,
  "nbformat_minor": 0,
  "metadata": {
    "colab": {
      "provenance": [],
      "authorship_tag": "ABX9TyNP+GD7vuc3wVUAuuVWIVBv",
      "include_colab_link": true
    },
    "kernelspec": {
      "name": "python3",
      "display_name": "Python 3"
    },
    "language_info": {
      "name": "python"
    }
  },
  "cells": [
    {
      "cell_type": "markdown",
      "metadata": {
        "id": "view-in-github",
        "colab_type": "text"
      },
      "source": [
        "<a href=\"https://colab.research.google.com/github/KhyatiSatija/Probability_Course/blob/main/Lab6%26%267_Probability.ipynb\" target=\"_parent\"><img src=\"https://colab.research.google.com/assets/colab-badge.svg\" alt=\"Open In Colab\"/></a>"
      ]
    },
    {
      "cell_type": "markdown",
      "source": [
        "Q1\n"
      ],
      "metadata": {
        "id": "nDfUCgh8GNUL"
      }
    },
    {
      "cell_type": "code",
      "execution_count": null,
      "metadata": {
        "id": "bx97wRHU5lCc"
      },
      "outputs": [],
      "source": [
        "import numpy as np\n",
        "x_data = np.random.randint(1, 100,50)\n",
        "y_data = np.random.randint(1,100,50)"
      ]
    },
    {
      "cell_type": "code",
      "source": [
        "print(x_data)\n",
        "print(y_data)"
      ],
      "metadata": {
        "colab": {
          "base_uri": "https://localhost:8080/"
        },
        "id": "ytWP63lB6OzS",
        "outputId": "04c340ef-155e-4855-f95f-a75483d29523"
      },
      "execution_count": null,
      "outputs": [
        {
          "output_type": "stream",
          "name": "stdout",
          "text": [
            "[27 14 95 47  3 40 14 27 34 70 11 82 14  9 30  2 33 17 76 22 84 34 21 76\n",
            " 75 98 42 93 57 13 44 84 69 10 46 32 78 34 80 15 53 56 81 51 14  5 68 93\n",
            " 33 79]\n",
            "[ 3 90 28 39 39 90 48 27 62 64 84 29 89 90 63 63 36 76 58 57 51 61 40 61\n",
            " 67  5  2 18 10 80 29 94 13 65 50 82 30 44 50 76 36 10 29 28 39 12 58 47\n",
            " 11 57]\n"
          ]
        }
      ]
    },
    {
      "cell_type": "code",
      "source": [
        "import numpy as np\n",
        "def generate_data(size: int) -> list[int]:\n",
        "    x_data = np.random.randint(1, 100,size)\n",
        "    y_data = np.random.randint(1,100,size)\n",
        "    return x_data ,y_data"
      ],
      "metadata": {
        "id": "_2HOeXID82Or"
      },
      "execution_count": null,
      "outputs": []
    },
    {
      "cell_type": "code",
      "source": [
        "def calculate_mean(data : list[int]) -> int:\n",
        "    return sum(data)/len(data)"
      ],
      "metadata": {
        "id": "GdibmCQx-uPM"
      },
      "execution_count": null,
      "outputs": []
    },
    {
      "cell_type": "code",
      "source": [
        "def calculate_standard_deviation(data: list[int]) -> int:\n",
        "    mean = calculate_mean(data)\n",
        "    numerator = []\n",
        "    for n in data:\n",
        "        numerator.append((n - mean)**2)\n",
        "    return round((sum(numerator)/ len(data))**(0.5), 4)"
      ],
      "metadata": {
        "id": "EuFMmxTW_Icq"
      },
      "execution_count": null,
      "outputs": []
    },
    {
      "cell_type": "code",
      "source": [
        "import math\n",
        "def calculate_corelation(data1: list[int], data2: list[int]) -> int:\n",
        "    xy = []\n",
        "    for i in range(len(data1)):\n",
        "        xy.append(data1[i]* data2[i])\n",
        "    sigma_xy = sum(xy)\n",
        "    sigma_x = sum(data1)\n",
        "    sigma_y = sum(data2)\n",
        "    sigmaX_sq = sum([x * y for x, y in zip(data1, data1)])\n",
        "    sigmaY_sq = sum([x * y for x, y in zip(data2, data2)])\n",
        "    denominator = math.sqrt(len(data1)* sigmaX_sq - (sigma_x)**2) * math.sqrt(len(data2)* sigmaY_sq  - (sigma_y)**2 )\n",
        "    r =  round(((len(data1)* sigma_xy) - (sigma_x * sigma_y))/(denominator), 4)\n",
        "    print(tell_relation(r))\n",
        "    return r"
      ],
      "metadata": {
        "id": "zRHuvRdkAlis"
      },
      "execution_count": null,
      "outputs": []
    },
    {
      "cell_type": "code",
      "source": [
        "def tell_relation(r : float) -> str:\n",
        "    if r == 0:\n",
        "        return 'No relation'\n",
        "    elif r == 1:\n",
        "        return 'Perfectly positive'\n",
        "    elif r == -1:\n",
        "        return 'perfectly negative'\n",
        "    elif -1 < r <= -0.5:\n",
        "        return 'strongly negative'\n",
        "    elif -0.5 < r < 0:\n",
        "        return 'weakly negative'\n",
        "    elif 0 < r < 0.5 :\n",
        "        return 'weakly negative'\n",
        "    else:\n",
        "        return 'strongly positive'\n"
      ],
      "metadata": {
        "id": "3_3Vx9O1EPVA"
      },
      "execution_count": null,
      "outputs": []
    },
    {
      "cell_type": "code",
      "source": [
        "calculate_corelation(x_data, y_data)"
      ],
      "metadata": {
        "colab": {
          "base_uri": "https://localhost:8080/"
        },
        "id": "xCqYXGcuC6qV",
        "outputId": "d0e48102-bbd1-45cc-f952-c90355b58cb9"
      },
      "execution_count": null,
      "outputs": [
        {
          "output_type": "stream",
          "name": "stdout",
          "text": [
            "weakly negative\n"
          ]
        },
        {
          "output_type": "execute_result",
          "data": {
            "text/plain": [
              "-0.2877"
            ]
          },
          "metadata": {},
          "execution_count": 34
        }
      ]
    },
    {
      "cell_type": "code",
      "source": [
        "# Q2\n",
        "def calculate_covariance(data1: list[int], data2: list[int]) -> float:\n",
        "    mean1 = calculate_mean(data1)\n",
        "    mean2 = calculate_mean(data2)\n",
        "    a, b = [], []\n",
        "    for i in range(len(data1)):\n",
        "        a.append(x_data[i] - mean1)\n",
        "    for i in range(len(data2)):\n",
        "        b.append(y_data[i] - mean2)\n",
        "        nume = []\n",
        "    for i in range(len(data1)):\n",
        "        nume.append(a[i] * b[i])\n",
        "    numerator = sum(nume)\n",
        "    return numerator/ len(data1)"
      ],
      "metadata": {
        "id": "RYC3p-eMEHuk"
      },
      "execution_count": null,
      "outputs": []
    },
    {
      "cell_type": "code",
      "source": [
        "calculate_covariance(x_data, y_data)"
      ],
      "metadata": {
        "colab": {
          "base_uri": "https://localhost:8080/"
        },
        "id": "S9BlKt9rINSf",
        "outputId": "80fd299b-9503-468b-83a4-f76d504cb700"
      },
      "execution_count": null,
      "outputs": [
        {
          "output_type": "execute_result",
          "data": {
            "text/plain": [
              "-215.98"
            ]
          },
          "metadata": {},
          "execution_count": 37
        }
      ]
    },
    {
      "cell_type": "code",
      "source": [
        "pmf_X = {\n",
        "    -2 : 1/4,\n",
        "    -1: 1/8,\n",
        "    0: 1/8,\n",
        "    1: 1/4,\n",
        "    2: 1/4,\n",
        "}"
      ],
      "metadata": {
        "id": "W9bKgsaGIQOF"
      },
      "execution_count": null,
      "outputs": []
    },
    {
      "cell_type": "code",
      "source": [
        "pmf_Y = {}\n",
        "for x,p in pmf_X.items():\n",
        "    y = str((x + 1)**2)\n",
        "    if y in pmf_Y:\n",
        "        pmf_Y[y] += p\n",
        "    else:\n",
        "        pmf_Y[y] = p"
      ],
      "metadata": {
        "id": "Ir5dU5TSgdKv"
      },
      "execution_count": null,
      "outputs": []
    },
    {
      "cell_type": "code",
      "source": [
        "pmf_Y"
      ],
      "metadata": {
        "colab": {
          "base_uri": "https://localhost:8080/"
        },
        "id": "03enQJdOhJT4",
        "outputId": "8594ebaa-7eb8-481f-a26d-64f2dac0eb9f"
      },
      "execution_count": null,
      "outputs": [
        {
          "output_type": "execute_result",
          "data": {
            "text/plain": [
              "{'1': 0.375, '0': 0.125, '4': 0.25, '9': 0.25}"
            ]
          },
          "metadata": {},
          "execution_count": 11
        }
      ]
    },
    {
      "cell_type": "code",
      "source": [
        "Y = sorted(pmf_Y.keys())\n",
        "print(Y)\n",
        "print(\"Range of Y is from\", Y[0] ,\"to \" ,Y[-1])"
      ],
      "metadata": {
        "colab": {
          "base_uri": "https://localhost:8080/"
        },
        "id": "FI6u_TDVh2_6",
        "outputId": "270dcda9-2b81-4090-de58-89a97c03c8c3"
      },
      "execution_count": null,
      "outputs": [
        {
          "output_type": "stream",
          "name": "stdout",
          "text": [
            "['0', '1', '4', '9']\n",
            "Range of Y is from 0 to  9\n"
          ]
        }
      ]
    },
    {
      "cell_type": "markdown",
      "source": [
        "#LAB - 7\n",
        "###19th Sept"
      ],
      "metadata": {
        "id": "wrFyPQF98tD4"
      }
    },
    {
      "cell_type": "code",
      "source": [
        "# # Q1\n",
        "# 4 fused ,  10 good bulbs\n",
        "# 3 are drawn at random with replacement\n",
        "# prob distribution.\n"
      ],
      "metadata": {
        "id": "G6xed83IixPN"
      },
      "execution_count": null,
      "outputs": []
    },
    {
      "cell_type": "markdown",
      "source": [
        "we can use the binomial probability distribution since each draw is independent and has two possible outcomes (fused or not fused). \\\\\n",
        "\n",
        "n = total number of bulbs  \\\\\n",
        "p (prob of success) i.e. getting  a fused bulb. \\\\\n",
        "q = prob of failure = getting a good bulb\n",
        "\n"
      ],
      "metadata": {
        "id": "U28rzyk5_g8a"
      }
    },
    {
      "cell_type": "code",
      "source": [
        "total = 14\n",
        "fused = 4\n",
        "unfused = total - fused\n",
        "prob_fused = fused/ total\n",
        "prob_unfused = unfused / total\n",
        "drawn = 3"
      ],
      "metadata": {
        "id": "k1u-WriS9vSK"
      },
      "execution_count": null,
      "outputs": []
    },
    {
      "cell_type": "markdown",
      "source": [
        "P(x = 0) = 3C0 *q * q * q \\\\\n",
        "P(x = 1) = 3C1 * p * q * q \\\\\n",
        "P(x = 2) = 3C2 * p * p * q \\\\\n",
        "P(x = 3) = 3C3 * p * p * p \\\\\n",
        "\n"
      ],
      "metadata": {
        "id": "1bKWOq9mBXqU"
      }
    },
    {
      "cell_type": "markdown",
      "source": [
        "nCr = n ! / (n - r)! * r ! \\\\\n",
        "tries ! / (tries - i)! * i ! \\\\"
      ],
      "metadata": {
        "id": "IKQoDDqqJL2Z"
      }
    },
    {
      "cell_type": "code",
      "source": [
        "def factorial(n : int) -> int:\n",
        "    if n == 0:\n",
        "        return 1\n",
        "    return n * factorial(n - 1)"
      ],
      "metadata": {
        "id": "pmIB1uDjp2i7"
      },
      "execution_count": null,
      "outputs": []
    },
    {
      "cell_type": "code",
      "source": [
        "prob_distribution = {}\n",
        "for outcome in range(drawn + 1):\n",
        "    prob_distribution[outcome] = (factorial(drawn)/ factorial(drawn - outcome) * factorial(outcome)) * (prob_fused)**outcome * (prob_unfused)**(drawn - outcome)\n",
        "for i,p in prob_distribution.items():\n",
        "    print(f\"The probability when number of fused bulbs is {i} is {p:.4f}\")"
      ],
      "metadata": {
        "colab": {
          "base_uri": "https://localhost:8080/"
        },
        "id": "I_EM0iVIpKam",
        "outputId": "2af067a6-2bbe-48c4-c17b-21fa4e984624"
      },
      "execution_count": null,
      "outputs": [
        {
          "output_type": "stream",
          "name": "stdout",
          "text": [
            "The probability when number of fused bulbs is 0 is 0.3644\n",
            "The probability when number of fused bulbs is 1 is 0.4373\n",
            "The probability when number of fused bulbs is 2 is 0.6997\n",
            "The probability when number of fused bulbs is 3 is 0.8397\n"
          ]
        }
      ]
    },
    {
      "cell_type": "code",
      "source": [
        "from math import comb\n",
        "total_bulbs = 14\n",
        "fused_bulbs = 4\n",
        "n = 3\n",
        "p_fused = fused_bulbs / total_bulbs\n",
        "p_good = 1 - p_fused\n",
        "probability_distribution = {}\n",
        "for x in range(n + 1):\n",
        "    probability = comb(n, x) * (p_fused ** x) * (p_good ** (n - x))\n",
        "    probability_distribution[x] = probability\n",
        "for x, probability in probability_distribution.items():\n",
        "    print(f'P(X = {x}) = {probability:.3f}')"
      ],
      "metadata": {
        "colab": {
          "base_uri": "https://localhost:8080/"
        },
        "id": "I4jz7EIproOK",
        "outputId": "02428be3-9440-4ef4-949a-66aee7c67b2e"
      },
      "execution_count": null,
      "outputs": [
        {
          "output_type": "stream",
          "name": "stdout",
          "text": [
            "P(X = 0) = 0.364\n",
            "P(X = 1) = 0.437\n",
            "P(X = 2) = 0.175\n",
            "P(X = 3) = 0.023\n"
          ]
        }
      ]
    },
    {
      "cell_type": "code",
      "source": [
        "prob_defective = 0.02\n",
        "# req_prob = prob_first_defect_by_the_seventh_component_tested = ?\n",
        "prob_not_defective = 1 - prob_defective\n",
        "req_prob = (prob_not_defective ** 6 ) * prob_defective"
      ],
      "metadata": {
        "id": "QPyHnmyis_CT"
      },
      "execution_count": null,
      "outputs": []
    },
    {
      "cell_type": "code",
      "source": [
        "round(req_prob,4)"
      ],
      "metadata": {
        "colab": {
          "base_uri": "https://localhost:8080/"
        },
        "id": "pRQsGJLYupIu",
        "outputId": "9fbb1d19-ce2a-402a-dbf1-4295534ae0cb"
      },
      "execution_count": null,
      "outputs": [
        {
          "output_type": "execute_result",
          "data": {
            "text/plain": [
              "0.0177"
            ]
          },
          "metadata": {},
          "execution_count": 18
        }
      ]
    },
    {
      "cell_type": "markdown",
      "source": [
        "how many components you can expect to test until one is found to be defective. This is known as the expected value of the geometric distribution."
      ],
      "metadata": {
        "id": "E7cWPmQpwFvh"
      }
    },
    {
      "cell_type": "code",
      "source": [
        "expected_value = 1/prob_defective"
      ],
      "metadata": {
        "id": "v0mvBLSgvsOb"
      },
      "execution_count": null,
      "outputs": []
    },
    {
      "cell_type": "code",
      "source": [
        "expected_value"
      ],
      "metadata": {
        "colab": {
          "base_uri": "https://localhost:8080/"
        },
        "id": "EfvdpQvGwSqx",
        "outputId": "08242c27-abd0-4679-fb7d-ea929a963222"
      },
      "execution_count": null,
      "outputs": [
        {
          "output_type": "execute_result",
          "data": {
            "text/plain": [
              "50.0"
            ]
          },
          "metadata": {},
          "execution_count": 21
        }
      ]
    },
    {
      "cell_type": "code",
      "source": [
        "# Q3\n",
        "# Poisson Distribution - when the prob of success is really low or the number of outcomes are really high\n"
      ],
      "metadata": {
        "id": "ccfdRJ9bwTxa"
      },
      "execution_count": null,
      "outputs": []
    },
    {
      "cell_type": "markdown",
      "source": [
        "The formula for the Poisson probability of seeing \"k\" events when the average rate is λ is given by: \\\\\n",
        "P(X = k) = e^{-λ} * λ^{k}/k! \\\\\n",
        "P(X=k) is the probability of observing exactly \"k\" events. \\\\\n",
        "λ is the average rate at which these events occur. \\\\\n",
        "e is a mathematical constant\n",
        "(approximately 2.71828). \\\\ \\\\ \\\\ \\\\\n",
        "Events Happening Over Time or Space: The Poisson distribution is used when you're interested in events that happen randomly, one at a time, and independently of each other over a certain period of time or in a specific area. These events could be anything: accidents, phone calls, arrivals, defects, etc. \\\\\n",
        "\n",
        "The Average Rate: To use the Poisson distribution, you need to know the average rate at which these events happen. Let's call this rate \"λ\" (lambda). Lambda tells us, on average, how many of these events we expect to occur in a given period."
      ],
      "metadata": {
        "id": "z1adFnUHyAZD"
      }
    },
    {
      "cell_type": "code",
      "source": [
        "data = {\n",
        "    10 : 2,\n",
        "    15 : 1,\n",
        "    20 : 1,\n",
        "    25 : 1,\n",
        "    30 : 2\n",
        "}"
      ],
      "metadata": {
        "id": "kF2ybfMByW1b"
      },
      "execution_count": null,
      "outputs": []
    },
    {
      "cell_type": "code",
      "source": [
        "total = 0\n",
        "for i,p in data.items():\n",
        "    total += (i * p)\n",
        "lambdaa = total/ sum(data.values())"
      ],
      "metadata": {
        "id": "Vzxrk0xD1E1_"
      },
      "execution_count": null,
      "outputs": []
    },
    {
      "cell_type": "code",
      "source": [
        "print(lambdaa)"
      ],
      "metadata": {
        "colab": {
          "base_uri": "https://localhost:8080/"
        },
        "id": "aLfyXRjh3Nbl",
        "outputId": "e0df8383-3a67-4da4-d49a-3e3046fc1b09"
      },
      "execution_count": null,
      "outputs": [
        {
          "output_type": "stream",
          "name": "stdout",
          "text": [
            "20.0\n"
          ]
        }
      ]
    },
    {
      "cell_type": "code",
      "source": [
        "print(\"The  average (mean) number of croissants sold per hour during the busy morning shift is :\",int(lambdaa))"
      ],
      "metadata": {
        "colab": {
          "base_uri": "https://localhost:8080/"
        },
        "id": "So4BRfVh3cE4",
        "outputId": "b139e092-1f3e-4bdb-eb03-d1d2b5cf295f"
      },
      "execution_count": null,
      "outputs": [
        {
          "output_type": "stream",
          "name": "stdout",
          "text": [
            "The  average (mean) number of croissants sold per hour during the busy morning shift is : 20\n"
          ]
        }
      ]
    },
    {
      "cell_type": "markdown",
      "source": [
        "##Calculate the Probability of Selling Exactly 20 Croissants in an Hour: \\\\\n",
        "We'll use the Poisson distribution formula to calculate this probability:"
      ],
      "metadata": {
        "id": "K3S6ohtl9a3E"
      }
    },
    {
      "cell_type": "code",
      "source": [
        "k = 20\n",
        "e = 2.71828\n",
        "p = (e**(-lambdaa) * lambdaa** k )/ factorial(k)\n",
        "print(f\"P( X = {k}) = {p:.4f}\")"
      ],
      "metadata": {
        "colab": {
          "base_uri": "https://localhost:8080/"
        },
        "id": "B0lWhzON9ZAd",
        "outputId": "a44629f9-5055-4e4c-87fa-7ba4552eba0d"
      },
      "execution_count": null,
      "outputs": [
        {
          "output_type": "stream",
          "name": "stdout",
          "text": [
            "P( X = 20) = 0.0888\n"
          ]
        }
      ]
    },
    {
      "cell_type": "markdown",
      "source": [
        "##Find the Probability of Selling Fewer Than 15 Croissants in an Hour:"
      ],
      "metadata": {
        "id": "BZ08ENOv-Xk9"
      }
    },
    {
      "cell_type": "code",
      "source": [
        "total_prob = 0\n",
        "for k in range(15):\n",
        "    total_prob +=  (e**(-lambdaa) * lambdaa ** k)/ factorial(k)\n",
        "print(f\"P( X = 0) + P( X = 1) + P( X = 2) + ... + P( X = 14) {total_prob:.4f}\")"
      ],
      "metadata": {
        "colab": {
          "base_uri": "https://localhost:8080/"
        },
        "id": "ghWoxEZL-OYU",
        "outputId": "67bfaeb8-a154-4a15-a2d4-ad2ed2fdde09"
      },
      "execution_count": null,
      "outputs": [
        {
          "output_type": "stream",
          "name": "stdout",
          "text": [
            "P( X = 0) + P( X = 1) + P( X = 2) + ... + P( X = 14) 0.1049\n"
          ]
        }
      ]
    },
    {
      "cell_type": "code",
      "source": [
        "# standard_deviation = sqrt(variance)\n",
        "std_dev = lambdaa**0.5\n",
        "print(f\"{std_dev:.4f}\")"
      ],
      "metadata": {
        "colab": {
          "base_uri": "https://localhost:8080/"
        },
        "id": "rS83EhjX8iKK",
        "outputId": "4e940981-47f3-4453-85d3-be68124a4c57"
      },
      "execution_count": null,
      "outputs": [
        {
          "output_type": "stream",
          "name": "stdout",
          "text": [
            "4.4721\n"
          ]
        }
      ]
    },
    {
      "cell_type": "code",
      "source": [
        "# Q4\n",
        "# P(X = n) < 0.1"
      ],
      "metadata": {
        "id": "AByq3rb3_kNH"
      },
      "execution_count": null,
      "outputs": []
    },
    {
      "cell_type": "markdown",
      "source": [
        "A call center receives an average of 4.5 calls every 5 minutes. Each agent can handle one of these calls over the 5 minute period. If a call is received, but no agent is available to take it, then that caller will be placed on hold. Assuming that the calls follow a Poisson distribution, what is the minimum number of agents needed on duty so that calls are placed on hold at most 10% of the time?"
      ],
      "metadata": {
        "id": "atN0nZDEKa4Y"
      }
    },
    {
      "cell_type": "code",
      "source": [
        "import math\n",
        "def poisson_distribution(lambbda: int, k: int) -> eval:\n",
        "    e = 2.71828\n",
        "    return (e**(-lambbda) * lambbda ** k) / factorial(k)"
      ],
      "metadata": {
        "id": "iDk6gBiRISZA"
      },
      "execution_count": null,
      "outputs": []
    },
    {
      "cell_type": "code",
      "source": [
        "n = 1\n",
        "lambbda = 4.5\n",
        "while True:\n",
        "    if poisson_distribution(lambbda, n)< 0.1:\n",
        "        break\n",
        "    n  += 1\n",
        "print(n)"
      ],
      "metadata": {
        "colab": {
          "base_uri": "https://localhost:8080/"
        },
        "id": "HiGItthEILQe",
        "outputId": "70dc6e71-80fc-43fe-eee8-84acdfbd6395"
      },
      "execution_count": null,
      "outputs": [
        {
          "output_type": "stream",
          "name": "stdout",
          "text": [
            "1\n"
          ]
        }
      ]
    },
    {
      "cell_type": "code",
      "source": [
        "import math\n",
        "\n",
        "# Average rate of calls received every 5 minutes\n",
        "lambda_calls = 4.5\n",
        "\n",
        "# Service rate per agent (calls handled in 5 minutes)\n",
        "service_rate = 1/5\n",
        "\n",
        "# Desired maximum probability of calls on hold (10%)\n",
        "desired_probability = 0.10\n",
        "\n",
        "# Initialize the number of agents\n",
        "num_agents = 0\n",
        "\n",
        "# Function to calculate the Poisson probability\n",
        "def poisson_probability(k, lambda_value):\n",
        "    return (lambda_value**k) * (math.exp(-lambda_value)) / math.factorial(k)\n",
        "\n",
        "# Calculate the minimum number of agents needed\n",
        "while True:\n",
        "    num_agents += 1\n",
        "    # Calculate the Poisson parameter for the number of calls handled\n",
        "    poisson_parameter = num_agents * service_rate\n",
        "    # Calculate the probability of calls on hold\n",
        "    probability_on_hold = 1.0  # Initialize the probability\n",
        "    for k in range(num_agents):\n",
        "        probability_on_hold -= poisson_probability(k, poisson_parameter)\n",
        "    if probability_on_hold < desired_probability:\n",
        "        break\n",
        "\n",
        "print(f\"Minimum number of agents needed: {num_agents}\")\n"
      ],
      "metadata": {
        "colab": {
          "base_uri": "https://localhost:8080/"
        },
        "id": "TX6np7NJJSEO",
        "outputId": "cb535276-0823-4c4f-d56f-3b37debfe63e"
      },
      "execution_count": null,
      "outputs": [
        {
          "output_type": "stream",
          "name": "stdout",
          "text": [
            "Minimum number of agents needed: 2\n"
          ]
        }
      ]
    },
    {
      "cell_type": "code",
      "source": [
        "import math\n",
        "from scipy.stats import poisson\n",
        "\n",
        "# Average rate of calls received every 5 minutes\n",
        "lambda_calls = 4.5\n",
        "\n",
        "# Service rate per agent (calls handled in 5 minutes)\n",
        "service_rate = 1/5\n",
        "\n",
        "# Desired maximum probability of calls on hold (10%)\n",
        "desired_probability = 0.10\n",
        "\n",
        "# Initialize the number of agents\n",
        "num_agents = 0\n",
        "\n",
        "# Calculate the minimum number of agents needed\n",
        "while True:\n",
        "    num_agents += 1\n",
        "    # Calculate the Poisson parameter for the number of calls handled\n",
        "    poisson_parameter = num_agents * service_rate\n",
        "    # Calculate the probability of calls on hold\n",
        "    probability_on_hold = 1 - poisson.cdf(num_agents - 1, poisson_parameter)\n",
        "    if probability_on_hold < desired_probability:\n",
        "        break\n",
        "\n",
        "print(f\"Minimum number of agents needed: {num_agents}\")\n"
      ],
      "metadata": {
        "colab": {
          "base_uri": "https://localhost:8080/"
        },
        "id": "JyJtS4mDJlGD",
        "outputId": "054d8214-3c5c-4968-a54b-691e05a85116"
      },
      "execution_count": null,
      "outputs": [
        {
          "output_type": "stream",
          "name": "stdout",
          "text": [
            "Minimum number of agents needed: 2\n"
          ]
        }
      ]
    },
    {
      "cell_type": "code",
      "source": [],
      "metadata": {
        "id": "SCeqDE7_JnzA"
      },
      "execution_count": null,
      "outputs": []
    }
  ]
}